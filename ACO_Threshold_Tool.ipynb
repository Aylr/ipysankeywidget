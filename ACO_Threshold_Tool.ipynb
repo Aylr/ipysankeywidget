{
 "cells": [
  {
   "cell_type": "markdown",
   "metadata": {},
   "source": [
    "# ACO Threshold Tool\n",
    "\n",
    "## Instructions\n",
    "\n",
    "1. Click on the code block below and note the blue or green border highlighting the entire block.\n",
    "2. Press **Shift-Enter** to execute that block of code which loads the data and tool.\n",
    "3. Experiment with the sliders to choose a threshold.\n",
    "\n",
    "**If something isn't behaving, simply refresh the web browser page.** If that doesn't work, please call Taylor!"
   ]
  },
  {
   "cell_type": "code",
   "execution_count": 2,
   "metadata": {},
   "outputs": [
    {
     "data": {
      "application/vnd.jupyter.widget-view+json": {
       "model_id": "1d18d9a23fef499face7533ed27c3898",
       "version_major": 2,
       "version_minor": 0
      },
      "text/plain": [
       "A Jupyter Widget"
      ]
     },
     "metadata": {},
     "output_type": "display_data"
    },
    {
     "data": {
      "text/plain": [
       "<function thresholds.thresholds.threshold_picker>"
      ]
     },
     "execution_count": 2,
     "metadata": {},
     "output_type": "execute_result"
    }
   ],
   "source": [
    "from thresholds.thresholds import threshold_tool\n",
    "threshold_tool()"
   ]
  }
 ],
 "metadata": {
  "kernelspec": {
   "display_name": "Python 3",
   "language": "python",
   "name": "python3"
  },
  "language_info": {
   "codemirror_mode": {
    "name": "ipython",
    "version": 3
   },
   "file_extension": ".py",
   "mimetype": "text/x-python",
   "name": "python",
   "nbconvert_exporter": "python",
   "pygments_lexer": "ipython3",
   "version": "3.6.3"
  }
 },
 "nbformat": 4,
 "nbformat_minor": 2
}
